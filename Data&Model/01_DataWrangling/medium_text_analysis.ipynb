{
  "nbformat": 4,
  "nbformat_minor": 0,
  "metadata": {
    "accelerator": "TPU",
    "colab": {
      "name": "medium_text_analysis.ipynb",
      "provenance": [],
      "collapsed_sections": []
    },
    "kernelspec": {
      "display_name": "Python 3",
      "name": "python3"
    }
  },
  "cells": [
    {
      "cell_type": "code",
      "metadata": {
        "id": "KNKeMGqf-TzU",
        "colab": {
          "resources": {
            "http://localhost:8080/nbextensions/google.colab/files.js": {
              "data": "Ly8gQ29weXJpZ2h0IDIwMTcgR29vZ2xlIExMQwovLwovLyBMaWNlbnNlZCB1bmRlciB0aGUgQXBhY2hlIExpY2Vuc2UsIFZlcnNpb24gMi4wICh0aGUgIkxpY2Vuc2UiKTsKLy8geW91IG1heSBub3QgdXNlIHRoaXMgZmlsZSBleGNlcHQgaW4gY29tcGxpYW5jZSB3aXRoIHRoZSBMaWNlbnNlLgovLyBZb3UgbWF5IG9idGFpbiBhIGNvcHkgb2YgdGhlIExpY2Vuc2UgYXQKLy8KLy8gICAgICBodHRwOi8vd3d3LmFwYWNoZS5vcmcvbGljZW5zZXMvTElDRU5TRS0yLjAKLy8KLy8gVW5sZXNzIHJlcXVpcmVkIGJ5IGFwcGxpY2FibGUgbGF3IG9yIGFncmVlZCB0byBpbiB3cml0aW5nLCBzb2Z0d2FyZQovLyBkaXN0cmlidXRlZCB1bmRlciB0aGUgTGljZW5zZSBpcyBkaXN0cmlidXRlZCBvbiBhbiAiQVMgSVMiIEJBU0lTLAovLyBXSVRIT1VUIFdBUlJBTlRJRVMgT1IgQ09ORElUSU9OUyBPRiBBTlkgS0lORCwgZWl0aGVyIGV4cHJlc3Mgb3IgaW1wbGllZC4KLy8gU2VlIHRoZSBMaWNlbnNlIGZvciB0aGUgc3BlY2lmaWMgbGFuZ3VhZ2UgZ292ZXJuaW5nIHBlcm1pc3Npb25zIGFuZAovLyBsaW1pdGF0aW9ucyB1bmRlciB0aGUgTGljZW5zZS4KCi8qKgogKiBAZmlsZW92ZXJ2aWV3IEhlbHBlcnMgZm9yIGdvb2dsZS5jb2xhYiBQeXRob24gbW9kdWxlLgogKi8KKGZ1bmN0aW9uKHNjb3BlKSB7CmZ1bmN0aW9uIHNwYW4odGV4dCwgc3R5bGVBdHRyaWJ1dGVzID0ge30pIHsKICBjb25zdCBlbGVtZW50ID0gZG9jdW1lbnQuY3JlYXRlRWxlbWVudCgnc3BhbicpOwogIGVsZW1lbnQudGV4dENvbnRlbnQgPSB0ZXh0OwogIGZvciAoY29uc3Qga2V5IG9mIE9iamVjdC5rZXlzKHN0eWxlQXR0cmlidXRlcykpIHsKICAgIGVsZW1lbnQuc3R5bGVba2V5XSA9IHN0eWxlQXR0cmlidXRlc1trZXldOwogIH0KICByZXR1cm4gZWxlbWVudDsKfQoKLy8gTWF4IG51bWJlciBvZiBieXRlcyB3aGljaCB3aWxsIGJlIHVwbG9hZGVkIGF0IGEgdGltZS4KY29uc3QgTUFYX1BBWUxPQURfU0laRSA9IDEwMCAqIDEwMjQ7CgpmdW5jdGlvbiBfdXBsb2FkRmlsZXMoaW5wdXRJZCwgb3V0cHV0SWQpIHsKICBjb25zdCBzdGVwcyA9IHVwbG9hZEZpbGVzU3RlcChpbnB1dElkLCBvdXRwdXRJZCk7CiAgY29uc3Qgb3V0cHV0RWxlbWVudCA9IGRvY3VtZW50LmdldEVsZW1lbnRCeUlkKG91dHB1dElkKTsKICAvLyBDYWNoZSBzdGVwcyBvbiB0aGUgb3V0cHV0RWxlbWVudCB0byBtYWtlIGl0IGF2YWlsYWJsZSBmb3IgdGhlIG5leHQgY2FsbAogIC8vIHRvIHVwbG9hZEZpbGVzQ29udGludWUgZnJvbSBQeXRob24uCiAgb3V0cHV0RWxlbWVudC5zdGVwcyA9IHN0ZXBzOwoKICByZXR1cm4gX3VwbG9hZEZpbGVzQ29udGludWUob3V0cHV0SWQpOwp9CgovLyBUaGlzIGlzIHJvdWdobHkgYW4gYXN5bmMgZ2VuZXJhdG9yIChub3Qgc3VwcG9ydGVkIGluIHRoZSBicm93c2VyIHlldCksCi8vIHdoZXJlIHRoZXJlIGFyZSBtdWx0aXBsZSBhc3luY2hyb25vdXMgc3RlcHMgYW5kIHRoZSBQeXRob24gc2lkZSBpcyBnb2luZwovLyB0byBwb2xsIGZvciBjb21wbGV0aW9uIG9mIGVhY2ggc3RlcC4KLy8gVGhpcyB1c2VzIGEgUHJvbWlzZSB0byBibG9jayB0aGUgcHl0aG9uIHNpZGUgb24gY29tcGxldGlvbiBvZiBlYWNoIHN0ZXAsCi8vIHRoZW4gcGFzc2VzIHRoZSByZXN1bHQgb2YgdGhlIHByZXZpb3VzIHN0ZXAgYXMgdGhlIGlucHV0IHRvIHRoZSBuZXh0IHN0ZXAuCmZ1bmN0aW9uIF91cGxvYWRGaWxlc0NvbnRpbnVlKG91dHB1dElkKSB7CiAgY29uc3Qgb3V0cHV0RWxlbWVudCA9IGRvY3VtZW50LmdldEVsZW1lbnRCeUlkKG91dHB1dElkKTsKICBjb25zdCBzdGVwcyA9IG91dHB1dEVsZW1lbnQuc3RlcHM7CgogIGNvbnN0IG5leHQgPSBzdGVwcy5uZXh0KG91dHB1dEVsZW1lbnQubGFzdFByb21pc2VWYWx1ZSk7CiAgcmV0dXJuIFByb21pc2UucmVzb2x2ZShuZXh0LnZhbHVlLnByb21pc2UpLnRoZW4oKHZhbHVlKSA9PiB7CiAgICAvLyBDYWNoZSB0aGUgbGFzdCBwcm9taXNlIHZhbHVlIHRvIG1ha2UgaXQgYXZhaWxhYmxlIHRvIHRoZSBuZXh0CiAgICAvLyBzdGVwIG9mIHRoZSBnZW5lcmF0b3IuCiAgICBvdXRwdXRFbGVtZW50Lmxhc3RQcm9taXNlVmFsdWUgPSB2YWx1ZTsKICAgIHJldHVybiBuZXh0LnZhbHVlLnJlc3BvbnNlOwogIH0pOwp9CgovKioKICogR2VuZXJhdG9yIGZ1bmN0aW9uIHdoaWNoIGlzIGNhbGxlZCBiZXR3ZWVuIGVhY2ggYXN5bmMgc3RlcCBvZiB0aGUgdXBsb2FkCiAqIHByb2Nlc3MuCiAqIEBwYXJhbSB7c3RyaW5nfSBpbnB1dElkIEVsZW1lbnQgSUQgb2YgdGhlIGlucHV0IGZpbGUgcGlja2VyIGVsZW1lbnQuCiAqIEBwYXJhbSB7c3RyaW5nfSBvdXRwdXRJZCBFbGVtZW50IElEIG9mIHRoZSBvdXRwdXQgZGlzcGxheS4KICogQHJldHVybiB7IUl0ZXJhYmxlPCFPYmplY3Q+fSBJdGVyYWJsZSBvZiBuZXh0IHN0ZXBzLgogKi8KZnVuY3Rpb24qIHVwbG9hZEZpbGVzU3RlcChpbnB1dElkLCBvdXRwdXRJZCkgewogIGNvbnN0IGlucHV0RWxlbWVudCA9IGRvY3VtZW50LmdldEVsZW1lbnRCeUlkKGlucHV0SWQpOwogIGlucHV0RWxlbWVudC5kaXNhYmxlZCA9IGZhbHNlOwoKICBjb25zdCBvdXRwdXRFbGVtZW50ID0gZG9jdW1lbnQuZ2V0RWxlbWVudEJ5SWQob3V0cHV0SWQpOwogIG91dHB1dEVsZW1lbnQuaW5uZXJIVE1MID0gJyc7CgogIGNvbnN0IHBpY2tlZFByb21pc2UgPSBuZXcgUHJvbWlzZSgocmVzb2x2ZSkgPT4gewogICAgaW5wdXRFbGVtZW50LmFkZEV2ZW50TGlzdGVuZXIoJ2NoYW5nZScsIChlKSA9PiB7CiAgICAgIHJlc29sdmUoZS50YXJnZXQuZmlsZXMpOwogICAgfSk7CiAgfSk7CgogIGNvbnN0IGNhbmNlbCA9IGRvY3VtZW50LmNyZWF0ZUVsZW1lbnQoJ2J1dHRvbicpOwogIGlucHV0RWxlbWVudC5wYXJlbnRFbGVtZW50LmFwcGVuZENoaWxkKGNhbmNlbCk7CiAgY2FuY2VsLnRleHRDb250ZW50ID0gJ0NhbmNlbCB1cGxvYWQnOwogIGNvbnN0IGNhbmNlbFByb21pc2UgPSBuZXcgUHJvbWlzZSgocmVzb2x2ZSkgPT4gewogICAgY2FuY2VsLm9uY2xpY2sgPSAoKSA9PiB7CiAgICAgIHJlc29sdmUobnVsbCk7CiAgICB9OwogIH0pOwoKICAvLyBXYWl0IGZvciB0aGUgdXNlciB0byBwaWNrIHRoZSBmaWxlcy4KICBjb25zdCBmaWxlcyA9IHlpZWxkIHsKICAgIHByb21pc2U6IFByb21pc2UucmFjZShbcGlja2VkUHJvbWlzZSwgY2FuY2VsUHJvbWlzZV0pLAogICAgcmVzcG9uc2U6IHsKICAgICAgYWN0aW9uOiAnc3RhcnRpbmcnLAogICAgfQogIH07CgogIGNhbmNlbC5yZW1vdmUoKTsKCiAgLy8gRGlzYWJsZSB0aGUgaW5wdXQgZWxlbWVudCBzaW5jZSBmdXJ0aGVyIHBpY2tzIGFyZSBub3QgYWxsb3dlZC4KICBpbnB1dEVsZW1lbnQuZGlzYWJsZWQgPSB0cnVlOwoKICBpZiAoIWZpbGVzKSB7CiAgICByZXR1cm4gewogICAgICByZXNwb25zZTogewogICAgICAgIGFjdGlvbjogJ2NvbXBsZXRlJywKICAgICAgfQogICAgfTsKICB9CgogIGZvciAoY29uc3QgZmlsZSBvZiBmaWxlcykgewogICAgY29uc3QgbGkgPSBkb2N1bWVudC5jcmVhdGVFbGVtZW50KCdsaScpOwogICAgbGkuYXBwZW5kKHNwYW4oZmlsZS5uYW1lLCB7Zm9udFdlaWdodDogJ2JvbGQnfSkpOwogICAgbGkuYXBwZW5kKHNwYW4oCiAgICAgICAgYCgke2ZpbGUudHlwZSB8fCAnbi9hJ30pIC0gJHtmaWxlLnNpemV9IGJ5dGVzLCBgICsKICAgICAgICBgbGFzdCBtb2RpZmllZDogJHsKICAgICAgICAgICAgZmlsZS5sYXN0TW9kaWZpZWREYXRlID8gZmlsZS5sYXN0TW9kaWZpZWREYXRlLnRvTG9jYWxlRGF0ZVN0cmluZygpIDoKICAgICAgICAgICAgICAgICAgICAgICAgICAgICAgICAgICAgJ24vYSd9IC0gYCkpOwogICAgY29uc3QgcGVyY2VudCA9IHNwYW4oJzAlIGRvbmUnKTsKICAgIGxpLmFwcGVuZENoaWxkKHBlcmNlbnQpOwoKICAgIG91dHB1dEVsZW1lbnQuYXBwZW5kQ2hpbGQobGkpOwoKICAgIGNvbnN0IGZpbGVEYXRhUHJvbWlzZSA9IG5ldyBQcm9taXNlKChyZXNvbHZlKSA9PiB7CiAgICAgIGNvbnN0IHJlYWRlciA9IG5ldyBGaWxlUmVhZGVyKCk7CiAgICAgIHJlYWRlci5vbmxvYWQgPSAoZSkgPT4gewogICAgICAgIHJlc29sdmUoZS50YXJnZXQucmVzdWx0KTsKICAgICAgfTsKICAgICAgcmVhZGVyLnJlYWRBc0FycmF5QnVmZmVyKGZpbGUpOwogICAgfSk7CiAgICAvLyBXYWl0IGZvciB0aGUgZGF0YSB0byBiZSByZWFkeS4KICAgIGxldCBmaWxlRGF0YSA9IHlpZWxkIHsKICAgICAgcHJvbWlzZTogZmlsZURhdGFQcm9taXNlLAogICAgICByZXNwb25zZTogewogICAgICAgIGFjdGlvbjogJ2NvbnRpbnVlJywKICAgICAgfQogICAgfTsKCiAgICAvLyBVc2UgYSBjaHVua2VkIHNlbmRpbmcgdG8gYXZvaWQgbWVzc2FnZSBzaXplIGxpbWl0cy4gU2VlIGIvNjIxMTU2NjAuCiAgICBsZXQgcG9zaXRpb24gPSAwOwogICAgd2hpbGUgKHBvc2l0aW9uIDwgZmlsZURhdGEuYnl0ZUxlbmd0aCkgewogICAgICBjb25zdCBsZW5ndGggPSBNYXRoLm1pbihmaWxlRGF0YS5ieXRlTGVuZ3RoIC0gcG9zaXRpb24sIE1BWF9QQVlMT0FEX1NJWkUpOwogICAgICBjb25zdCBjaHVuayA9IG5ldyBVaW50OEFycmF5KGZpbGVEYXRhLCBwb3NpdGlvbiwgbGVuZ3RoKTsKICAgICAgcG9zaXRpb24gKz0gbGVuZ3RoOwoKICAgICAgY29uc3QgYmFzZTY0ID0gYnRvYShTdHJpbmcuZnJvbUNoYXJDb2RlLmFwcGx5KG51bGwsIGNodW5rKSk7CiAgICAgIHlpZWxkIHsKICAgICAgICByZXNwb25zZTogewogICAgICAgICAgYWN0aW9uOiAnYXBwZW5kJywKICAgICAgICAgIGZpbGU6IGZpbGUubmFtZSwKICAgICAgICAgIGRhdGE6IGJhc2U2NCwKICAgICAgICB9LAogICAgICB9OwogICAgICBwZXJjZW50LnRleHRDb250ZW50ID0KICAgICAgICAgIGAke01hdGgucm91bmQoKHBvc2l0aW9uIC8gZmlsZURhdGEuYnl0ZUxlbmd0aCkgKiAxMDApfSUgZG9uZWA7CiAgICB9CiAgfQoKICAvLyBBbGwgZG9uZS4KICB5aWVsZCB7CiAgICByZXNwb25zZTogewogICAgICBhY3Rpb246ICdjb21wbGV0ZScsCiAgICB9CiAgfTsKfQoKc2NvcGUuZ29vZ2xlID0gc2NvcGUuZ29vZ2xlIHx8IHt9OwpzY29wZS5nb29nbGUuY29sYWIgPSBzY29wZS5nb29nbGUuY29sYWIgfHwge307CnNjb3BlLmdvb2dsZS5jb2xhYi5fZmlsZXMgPSB7CiAgX3VwbG9hZEZpbGVzLAogIF91cGxvYWRGaWxlc0NvbnRpbnVlLAp9Owp9KShzZWxmKTsK",
              "ok": true,
              "headers": [
                [
                  "content-type",
                  "application/javascript"
                ]
              ],
              "status": 200,
              "status_text": ""
            }
          },
          "base_uri": "https://localhost:8080/",
          "height": 75
        },
        "outputId": "54ce76fc-b1a8-47a3-9879-534eed084f0f"
      },
      "source": [
        "from google.colab import files\n",
        "uploaded = files.upload()"
      ],
      "execution_count": 1,
      "outputs": [
        {
          "output_type": "display_data",
          "data": {
            "text/html": [
              "\n",
              "     <input type=\"file\" id=\"files-9332e24f-6eef-4460-a8dd-fcd8ac8a7b98\" name=\"files[]\" multiple disabled\n",
              "        style=\"border:none\" />\n",
              "     <output id=\"result-9332e24f-6eef-4460-a8dd-fcd8ac8a7b98\">\n",
              "      Upload widget is only available when the cell has been executed in the\n",
              "      current browser session. Please rerun this cell to enable.\n",
              "      </output>\n",
              "      <script src=\"/nbextensions/google.colab/files.js\"></script> "
            ],
            "text/plain": [
              "<IPython.core.display.HTML object>"
            ]
          },
          "metadata": {
            "tags": []
          }
        },
        {
          "output_type": "stream",
          "text": [
            "Saving medium_pre.csv to medium_pre (2).csv\n"
          ],
          "name": "stdout"
        }
      ]
    },
    {
      "cell_type": "code",
      "metadata": {
        "id": "faz580JN-aWI",
        "colab": {
          "base_uri": "https://localhost:8080/",
          "height": 359
        },
        "outputId": "168eba41-7bdb-4c4f-b786-35d986f970d1"
      },
      "source": [
        "import pandas as pd\n",
        "df = pd.read_csv(\"medium_pre.csv\")\n",
        "df.head(10)"
      ],
      "execution_count": 2,
      "outputs": [
        {
          "output_type": "execute_result",
          "data": {
            "text/html": [
              "<div>\n",
              "<style scoped>\n",
              "    .dataframe tbody tr th:only-of-type {\n",
              "        vertical-align: middle;\n",
              "    }\n",
              "\n",
              "    .dataframe tbody tr th {\n",
              "        vertical-align: top;\n",
              "    }\n",
              "\n",
              "    .dataframe thead th {\n",
              "        text-align: right;\n",
              "    }\n",
              "</style>\n",
              "<table border=\"1\" class=\"dataframe\">\n",
              "  <thead>\n",
              "    <tr style=\"text-align: right;\">\n",
              "      <th></th>\n",
              "      <th>x</th>\n",
              "    </tr>\n",
              "  </thead>\n",
              "  <tbody>\n",
              "    <tr>\n",
              "      <th>0</th>\n",
              "      <td>Oil / Paperboard</td>\n",
              "    </tr>\n",
              "    <tr>\n",
              "      <th>1</th>\n",
              "      <td>Oil / Canvas</td>\n",
              "    </tr>\n",
              "    <tr>\n",
              "      <th>2</th>\n",
              "      <td>Oil / Canvas</td>\n",
              "    </tr>\n",
              "    <tr>\n",
              "      <th>3</th>\n",
              "      <td>Oil / Canvas</td>\n",
              "    </tr>\n",
              "    <tr>\n",
              "      <th>4</th>\n",
              "      <td>Oil / Canvas</td>\n",
              "    </tr>\n",
              "    <tr>\n",
              "      <th>5</th>\n",
              "      <td>Oil / Canvas</td>\n",
              "    </tr>\n",
              "    <tr>\n",
              "      <th>6</th>\n",
              "      <td>Oil / Canvas</td>\n",
              "    </tr>\n",
              "    <tr>\n",
              "      <th>7</th>\n",
              "      <td>Oil / Canvas</td>\n",
              "    </tr>\n",
              "    <tr>\n",
              "      <th>8</th>\n",
              "      <td>Oil / Canvas</td>\n",
              "    </tr>\n",
              "    <tr>\n",
              "      <th>9</th>\n",
              "      <td>Oil / Canvas</td>\n",
              "    </tr>\n",
              "  </tbody>\n",
              "</table>\n",
              "</div>"
            ],
            "text/plain": [
              "                  x\n",
              "0  Oil / Paperboard\n",
              "1      Oil / Canvas\n",
              "2      Oil / Canvas\n",
              "3      Oil / Canvas\n",
              "4      Oil / Canvas\n",
              "5      Oil / Canvas\n",
              "6      Oil / Canvas\n",
              "7      Oil / Canvas\n",
              "8      Oil / Canvas\n",
              "9      Oil / Canvas"
            ]
          },
          "metadata": {
            "tags": []
          },
          "execution_count": 2
        }
      ]
    },
    {
      "cell_type": "code",
      "metadata": {
        "id": "RWxJsBuNysLs",
        "colab": {
          "base_uri": "https://localhost:8080/"
        },
        "outputId": "f6d1134c-e4e6-438c-ebaa-80e61b16163b"
      },
      "source": [
        "len(df)"
      ],
      "execution_count": 3,
      "outputs": [
        {
          "output_type": "execute_result",
          "data": {
            "text/plain": [
              "4397"
            ]
          },
          "metadata": {
            "tags": []
          },
          "execution_count": 3
        }
      ]
    },
    {
      "cell_type": "code",
      "metadata": {
        "id": "k6h-vUue-9tB"
      },
      "source": [
        "import string\n",
        "def remove_punctuations(text):\n",
        "    for punctuation in string.punctuation:\n",
        "        text = text.replace(punctuation, '')\n",
        "    return text\n",
        "df[\"y\"] = df['x'].str.lower().apply(remove_punctuations)"
      ],
      "execution_count": 4,
      "outputs": []
    },
    {
      "cell_type": "code",
      "metadata": {
        "id": "6NJCPv1J_hhl",
        "colab": {
          "base_uri": "https://localhost:8080/",
          "height": 204
        },
        "outputId": "553286dd-c85a-41e7-c1a9-d1fb4bceca9b"
      },
      "source": [
        "df.head()"
      ],
      "execution_count": 5,
      "outputs": [
        {
          "output_type": "execute_result",
          "data": {
            "text/html": [
              "<div>\n",
              "<style scoped>\n",
              "    .dataframe tbody tr th:only-of-type {\n",
              "        vertical-align: middle;\n",
              "    }\n",
              "\n",
              "    .dataframe tbody tr th {\n",
              "        vertical-align: top;\n",
              "    }\n",
              "\n",
              "    .dataframe thead th {\n",
              "        text-align: right;\n",
              "    }\n",
              "</style>\n",
              "<table border=\"1\" class=\"dataframe\">\n",
              "  <thead>\n",
              "    <tr style=\"text-align: right;\">\n",
              "      <th></th>\n",
              "      <th>x</th>\n",
              "      <th>y</th>\n",
              "    </tr>\n",
              "  </thead>\n",
              "  <tbody>\n",
              "    <tr>\n",
              "      <th>0</th>\n",
              "      <td>Oil / Paperboard</td>\n",
              "      <td>oil  paperboard</td>\n",
              "    </tr>\n",
              "    <tr>\n",
              "      <th>1</th>\n",
              "      <td>Oil / Canvas</td>\n",
              "      <td>oil  canvas</td>\n",
              "    </tr>\n",
              "    <tr>\n",
              "      <th>2</th>\n",
              "      <td>Oil / Canvas</td>\n",
              "      <td>oil  canvas</td>\n",
              "    </tr>\n",
              "    <tr>\n",
              "      <th>3</th>\n",
              "      <td>Oil / Canvas</td>\n",
              "      <td>oil  canvas</td>\n",
              "    </tr>\n",
              "    <tr>\n",
              "      <th>4</th>\n",
              "      <td>Oil / Canvas</td>\n",
              "      <td>oil  canvas</td>\n",
              "    </tr>\n",
              "  </tbody>\n",
              "</table>\n",
              "</div>"
            ],
            "text/plain": [
              "                  x                y\n",
              "0  Oil / Paperboard  oil  paperboard\n",
              "1      Oil / Canvas      oil  canvas\n",
              "2      Oil / Canvas      oil  canvas\n",
              "3      Oil / Canvas      oil  canvas\n",
              "4      Oil / Canvas      oil  canvas"
            ]
          },
          "metadata": {
            "tags": []
          },
          "execution_count": 5
        }
      ]
    },
    {
      "cell_type": "code",
      "metadata": {
        "id": "Cygvx0vgDJbe"
      },
      "source": [
        "df['z'] = df['y'].str.replace('and', '')\n",
        "df['z'] = df['z'].str.replace(' on', '')"
      ],
      "execution_count": 6,
      "outputs": []
    },
    {
      "cell_type": "code",
      "metadata": {
        "id": "qk0x1lOXAMy6",
        "colab": {
          "base_uri": "https://localhost:8080/"
        },
        "outputId": "3b38eda0-2b38-4242-95ad-10f29a959a0b"
      },
      "source": [
        "df['z'].str.split()"
      ],
      "execution_count": 7,
      "outputs": [
        {
          "output_type": "execute_result",
          "data": {
            "text/plain": [
              "0            [oil, paperboard]\n",
              "1                [oil, canvas]\n",
              "2                [oil, canvas]\n",
              "3                [oil, canvas]\n",
              "4                [oil, canvas]\n",
              "                 ...          \n",
              "4392    [ink, acrylic, canvas]\n",
              "4393    [ink, acrylic, canvas]\n",
              "4394     [ink, acrylic, paper]\n",
              "4395             [oil, canvas]\n",
              "4396    [acrylic, ink, canvas]\n",
              "Name: z, Length: 4397, dtype: object"
            ]
          },
          "metadata": {
            "tags": []
          },
          "execution_count": 7
        }
      ]
    },
    {
      "cell_type": "code",
      "metadata": {
        "id": "dBPcQSQhy7xl",
        "colab": {
          "base_uri": "https://localhost:8080/",
          "height": 419
        },
        "outputId": "60981ef0-ea47-46e0-d0db-5e5deff41390"
      },
      "source": [
        "df"
      ],
      "execution_count": 8,
      "outputs": [
        {
          "output_type": "execute_result",
          "data": {
            "text/html": [
              "<div>\n",
              "<style scoped>\n",
              "    .dataframe tbody tr th:only-of-type {\n",
              "        vertical-align: middle;\n",
              "    }\n",
              "\n",
              "    .dataframe tbody tr th {\n",
              "        vertical-align: top;\n",
              "    }\n",
              "\n",
              "    .dataframe thead th {\n",
              "        text-align: right;\n",
              "    }\n",
              "</style>\n",
              "<table border=\"1\" class=\"dataframe\">\n",
              "  <thead>\n",
              "    <tr style=\"text-align: right;\">\n",
              "      <th></th>\n",
              "      <th>x</th>\n",
              "      <th>y</th>\n",
              "      <th>z</th>\n",
              "    </tr>\n",
              "  </thead>\n",
              "  <tbody>\n",
              "    <tr>\n",
              "      <th>0</th>\n",
              "      <td>Oil / Paperboard</td>\n",
              "      <td>oil  paperboard</td>\n",
              "      <td>oil  paperboard</td>\n",
              "    </tr>\n",
              "    <tr>\n",
              "      <th>1</th>\n",
              "      <td>Oil / Canvas</td>\n",
              "      <td>oil  canvas</td>\n",
              "      <td>oil  canvas</td>\n",
              "    </tr>\n",
              "    <tr>\n",
              "      <th>2</th>\n",
              "      <td>Oil / Canvas</td>\n",
              "      <td>oil  canvas</td>\n",
              "      <td>oil  canvas</td>\n",
              "    </tr>\n",
              "    <tr>\n",
              "      <th>3</th>\n",
              "      <td>Oil / Canvas</td>\n",
              "      <td>oil  canvas</td>\n",
              "      <td>oil  canvas</td>\n",
              "    </tr>\n",
              "    <tr>\n",
              "      <th>4</th>\n",
              "      <td>Oil / Canvas</td>\n",
              "      <td>oil  canvas</td>\n",
              "      <td>oil  canvas</td>\n",
              "    </tr>\n",
              "    <tr>\n",
              "      <th>...</th>\n",
              "      <td>...</td>\n",
              "      <td>...</td>\n",
              "      <td>...</td>\n",
              "    </tr>\n",
              "    <tr>\n",
              "      <th>4392</th>\n",
              "      <td>Ink and acrylic / Canvas</td>\n",
              "      <td>ink and acrylic  canvas</td>\n",
              "      <td>ink  acrylic  canvas</td>\n",
              "    </tr>\n",
              "    <tr>\n",
              "      <th>4393</th>\n",
              "      <td>Ink and acrylic / Canvas</td>\n",
              "      <td>ink and acrylic  canvas</td>\n",
              "      <td>ink  acrylic  canvas</td>\n",
              "    </tr>\n",
              "    <tr>\n",
              "      <th>4394</th>\n",
              "      <td>Ink and acrylic / Paper</td>\n",
              "      <td>ink and acrylic  paper</td>\n",
              "      <td>ink  acrylic  paper</td>\n",
              "    </tr>\n",
              "    <tr>\n",
              "      <th>4395</th>\n",
              "      <td>Oil / Canvas</td>\n",
              "      <td>oil  canvas</td>\n",
              "      <td>oil  canvas</td>\n",
              "    </tr>\n",
              "    <tr>\n",
              "      <th>4396</th>\n",
              "      <td>Acrylic and ink / Canvas</td>\n",
              "      <td>acrylic and ink  canvas</td>\n",
              "      <td>acrylic  ink  canvas</td>\n",
              "    </tr>\n",
              "  </tbody>\n",
              "</table>\n",
              "<p>4397 rows × 3 columns</p>\n",
              "</div>"
            ],
            "text/plain": [
              "                             x                        y                     z\n",
              "0             Oil / Paperboard          oil  paperboard       oil  paperboard\n",
              "1                 Oil / Canvas              oil  canvas           oil  canvas\n",
              "2                 Oil / Canvas              oil  canvas           oil  canvas\n",
              "3                 Oil / Canvas              oil  canvas           oil  canvas\n",
              "4                 Oil / Canvas              oil  canvas           oil  canvas\n",
              "...                        ...                      ...                   ...\n",
              "4392  Ink and acrylic / Canvas  ink and acrylic  canvas  ink  acrylic  canvas\n",
              "4393  Ink and acrylic / Canvas  ink and acrylic  canvas  ink  acrylic  canvas\n",
              "4394   Ink and acrylic / Paper   ink and acrylic  paper   ink  acrylic  paper\n",
              "4395              Oil / Canvas              oil  canvas           oil  canvas\n",
              "4396  Acrylic and ink / Canvas  acrylic and ink  canvas  acrylic  ink  canvas\n",
              "\n",
              "[4397 rows x 3 columns]"
            ]
          },
          "metadata": {
            "tags": []
          },
          "execution_count": 8
        }
      ]
    },
    {
      "cell_type": "code",
      "metadata": {
        "id": "UbZKjOE3y_Yd",
        "colab": {
          "base_uri": "https://localhost:8080/"
        },
        "outputId": "f8c9abad-bccc-4bc7-d25b-28bb5b68a579"
      },
      "source": [
        "df.shape"
      ],
      "execution_count": 9,
      "outputs": [
        {
          "output_type": "execute_result",
          "data": {
            "text/plain": [
              "(4397, 3)"
            ]
          },
          "metadata": {
            "tags": []
          },
          "execution_count": 9
        }
      ]
    },
    {
      "cell_type": "code",
      "metadata": {
        "id": "JSoqxmpwATqX",
        "colab": {
          "base_uri": "https://localhost:8080/"
        },
        "outputId": "bd0f39d4-1b4d-4197-a568-a85493a5131c"
      },
      "source": [
        "from collections import Counter\n",
        "results = Counter()\n",
        "df['z'].str.lower().str.split().apply(results.update)\n",
        "print(results)"
      ],
      "execution_count": 10,
      "outputs": [
        {
          "output_type": "stream",
          "text": [
            "Counter({'canvas': 3420, 'oil': 3039, 'acrylic': 1167, 'board': 381, 'paper': 280, 'lacquer': 107, 'masonite': 107, 'panel': 104, 'ink': 96, 'wood': 91, 'linen': 59, 'mounted': 57, 'paint': 56, 'silk': 54, 'pigment': 38, 'laid': 35, 'enamel': 34, 'gouache': 31, 'spray': 27, 'aluminum': 27, 'resin': 26, 'pastel': 23, 'paperboard': 21, 'cardboard': 21, 'pencil': 19, 'cloth': 19, 'gold': 18, 'mineral': 17, 'synthetic': 17, 'wooden': 16, 'leaf': 16, 'cotton': 16, 'vinyl': 15, 'glue': 14, 'polymer': 14, 'with': 12, 'in': 12, 'silkscreen': 12, 'burlap': 11, 'steel': 9, 'painted': 9, 'frp': 9, 'card': 8, 'frame': 8, 'flake': 8, 'jute': 7, 'plastic': 7, 'print': 7, 'fiberglass': 7, 'medium': 7, 'tempera': 7, 'silver': 6, 'marker': 6, 'plywood': 6, 'hemp': 6, 'fabric': 6, 'korean': 6, 'volcanic': 5, 'ash': 5, 'stainless': 5, 'pen': 5, 'aluminium': 5, 'glass': 5, 'frottage': 5, 'charcoal': 5, 'to': 5, 'paste': 5, 'colored': 5, 'box': 4, 'aerosol': 4, 'collage': 4, 'metal': 4, 'digital': 4, 'original': 4, 'inkjet': 4, 'emulsion': 4, 'found': 4, 'alkyd': 4, 'heavy': 4, 'gel': 4, 'airbrush': 4, 'varnish': 4, 'platinum': 4, 'rice': 4, 'composite': 4, 'metallic': 4, 'coloured': 4, 'graphite': 4, 'chinese': 4, 'powder': 3, 'stencil': 3, 'colour': 3, 'plate': 3, 'japanese': 3, 'rubber': 3, 'leather': 3, 'h': 3, 'artists': 3, 'waterpaint': 3, 'vintage': 3, 'screen': 3, 'pva': 3, 'encaustic': 3, 'photo': 3, 'dust': 3, 'stone': 3, 'fixed': 3, 'poster': 3, 'modeling': 3, 'photograph': 3, 'suitcase': 3, 'antique': 3, 'foil': 3, 'retouching': 3, 'tinted': 3, 'adhered': 3, 'a': 3, 'support': 3, 'sheet': 3, 'shaped': 2, 'merapi': 2, 'pigmented': 2, 'goauche': 2, 'video': 2, 'usb': 2, 'markerink': 2, 'tv': 2, 'plexiglas': 2, 'crayon': 2, 'newspaper': 2, 'folding': 2, 'panels': 2, 'casein': 2, 'carbon': 2, 'packaging': 2, 'uv': 2, 'ceramic': 2, 'document': 2, 'goldfoil': 2, 'watercolour': 2, 'light': 2, 'two': 2, 'radio': 2, 'sony': 2, 'glitter': 2, 'batik': 2, 'gesso': 2, 'cast': 2, 'respective': 2, 'parts': 2, 'oilstick': 2, 'color': 2, 'stitched': 2, 'stain': 2, 'showcard': 2, 'clayboard': 2, 'down': 2, 'of': 2, 'the': 1, 'shutter': 1, 'flashe': 1, 'single': 1, 'channel': 1, 'sound': 1, 'framed': 1, 'singlechannel': 1, 'thirteen': 1, 'portable': 1, 'monitors': 1, 'cabinet': 1, 'videotape': 1, 'bar': 1, 'liquitex': 1, 'household': 1, 'gloss': 1, 'reinforced': 1, 'chromogenic': 1, 'prints': 1, 'hdrawn': 1, 'oilacrylic': 1, 'spraypaint': 1, 'stencilled': 1, 'ply': 1, 'acrylicemulsion': 1, '4': 1, 'gessoed': 1, 'hollowcore': 1, 'xuan': 1, 'felt': 1, 'plexiglass': 1, 'mount': 1, 'vitrine': 1, 'polished': 1, 'pvc': 1, 'product': 1, 'tape': 1, 'various': 1, 'printing': 1, 'tempered': 1, 'raw': 1, 'acrylicgold': 1, 'diamond': 1, 'laser': 1, 'cut': 1, 'acryliclaterite': 1, 'fibreglass': 1, 'crafted': 1, 'fiberboard': 1, 'lacqueraluminum': 1, 'advertising': 1, 'canvasboard': 1, 'tatting': 1, 'casting': 1, 'car': 1, 'canvs': 1, 'objects': 1, 'woodboard': 1, 'rope': 1, 'used': 1, 'clothes': 1, 'map': 1, 'bulbs': 1, 'figure': 1, 'soft': 1, 'sculpture': 1, 'trilby': 1, 'hat': 1, 'cameras': 1, 'body': 1, 'lanterns': 1, 'lights': 1, 'watchman': 1, 'tvradio': 1, 'powdered': 1, 'stereo': 1, 'fm': 1, 'bluetooth': 1, 'port': 1, 'headphone': 1, 'jack': 1, 'yamaha': 1, 'speaker': 1, 'system': 1, 'rimowa': 1, 'fixedto': 1, 'led': 1, 'structure': 1, 'ancient': 1, 'coins': 1, 'rubiks': 1, 'cube': 1, 'acrylicoil': 1, 'tubes': 1, 'wool': 1, '17': 1, 'phosphor': 1, 'tar': 1, 'beeswax': 1, 'bronze': 1, 'dibond': 1, 'fiber': 1, 'stick': 1, 'perspex': 1, 'silverflecked': 1, 'wax': 1, 'eggshells': 1, 'natural': 1, 'materials': 1, 'bamboo': 1, 'mat': 1, 'modelling': 1, 'acidfre': 1, 'lame': 1, 'diptych': 1, 'cushion': 1, 'house': 1, 'five': 1, 'pearlescent': 1, 'rollatex': 1, 'mirror': 1, 'frames': 1, 'towel': 1, 'stretched': 1, 'cprint': 1, 'reproduction': 1, 'jewelry': 1, 'cutouts': 1, 'lightbox': 1, 'velvet': 1, 'lacquered': 1, 'polyurethane': 1, 'dom': 1, 'pérignon': 1, 'rosé': 1, '2003': 1, 'maintenance': 1, 'kit': 1, 'custom': 1, 'flight': 1, 'case': 1, 'gun': 1, 'crystal': 1, 'p': 1, 'egg': 1, 'tile': 1, 'carved': 1, 'triptych': 1, 'adhesive': 1, 'ballpen': 1, 'joined': 1, 'sheets': 1, 'based': 1, 'urethane': 1, 'embossed': 1})\n"
          ],
          "name": "stdout"
        }
      ]
    },
    {
      "cell_type": "code",
      "metadata": {
        "id": "KWzNND9AHWpp"
      },
      "source": [
        "import numpy as np"
      ],
      "execution_count": 11,
      "outputs": []
    },
    {
      "cell_type": "code",
      "metadata": {
        "id": "QmgrU_WfBeV0",
        "colab": {
          "base_uri": "https://localhost:8080/"
        },
        "outputId": "d06c929c-9b85-4530-873d-26c0f1603ecf"
      },
      "source": [
        "for value, count in results.most_common(10):\n",
        "     print(value, count) "
      ],
      "execution_count": 12,
      "outputs": [
        {
          "output_type": "stream",
          "text": [
            "canvas 3420\n",
            "oil 3039\n",
            "acrylic 1167\n",
            "board 381\n",
            "paper 280\n",
            "lacquer 107\n",
            "masonite 107\n",
            "panel 104\n",
            "ink 96\n",
            "wood 91\n"
          ],
          "name": "stdout"
        }
      ]
    },
    {
      "cell_type": "code",
      "metadata": {
        "id": "UExAigHVGt-J",
        "colab": {
          "base_uri": "https://localhost:8080/"
        },
        "outputId": "a2d1bf01-0eb7-4582-9bef-5642459d9552"
      },
      "source": [
        "df['canvas'] = np.where(df.y.str.contains(\"canvas\", regex=True), 1, 0)\n",
        "df.canvas.value_counts() "
      ],
      "execution_count": 13,
      "outputs": [
        {
          "output_type": "execute_result",
          "data": {
            "text/plain": [
              "1    3419\n",
              "0     978\n",
              "Name: canvas, dtype: int64"
            ]
          },
          "metadata": {
            "tags": []
          },
          "execution_count": 13
        }
      ]
    },
    {
      "cell_type": "code",
      "metadata": {
        "id": "OTw6z5ivIYzz",
        "colab": {
          "base_uri": "https://localhost:8080/"
        },
        "outputId": "a4a74680-ee7a-4439-ffac-c5574f592041"
      },
      "source": [
        "df['oil'] = np.where(df.y.str.contains(\"oil\") &\n",
        "                     ~df.y.str.contains(\"foil\"), 1, 0)\n",
        "df.oil.value_counts()"
      ],
      "execution_count": 14,
      "outputs": [
        {
          "output_type": "execute_result",
          "data": {
            "text/plain": [
              "1    3039\n",
              "0    1358\n",
              "Name: oil, dtype: int64"
            ]
          },
          "metadata": {
            "tags": []
          },
          "execution_count": 14
        }
      ]
    },
    {
      "cell_type": "code",
      "metadata": {
        "id": "iv7YDOmwIp9F",
        "colab": {
          "base_uri": "https://localhost:8080/"
        },
        "outputId": "854a1ab5-e53b-4692-84ae-5fd1e5e5b3e9"
      },
      "source": [
        "df['acrylic'] = np.where(df.y.str.contains(\"acrylic\"), 1, 0)\n",
        "df.acrylic.value_counts()"
      ],
      "execution_count": 15,
      "outputs": [
        {
          "output_type": "execute_result",
          "data": {
            "text/plain": [
              "0    3228\n",
              "1    1169\n",
              "Name: acrylic, dtype: int64"
            ]
          },
          "metadata": {
            "tags": []
          },
          "execution_count": 15
        }
      ]
    },
    {
      "cell_type": "code",
      "metadata": {
        "colab": {
          "base_uri": "https://localhost:8080/"
        },
        "id": "OVi1kE-gbsvI",
        "outputId": "140c549a-de91-4917-99c9-93e8da6d903f"
      },
      "source": [
        "df['board'] = np.where(df.y.str.contains(\"board\"), 1, 0)\n",
        "df.board.value_counts()"
      ],
      "execution_count": 16,
      "outputs": [
        {
          "output_type": "execute_result",
          "data": {
            "text/plain": [
              "0    3971\n",
              "1     426\n",
              "Name: board, dtype: int64"
            ]
          },
          "metadata": {
            "tags": []
          },
          "execution_count": 16
        }
      ]
    },
    {
      "cell_type": "code",
      "metadata": {
        "id": "bbI0ubNr1fe4",
        "colab": {
          "base_uri": "https://localhost:8080/"
        },
        "outputId": "418f2b88-2bd6-4a76-b7f3-74cfb2696f0d"
      },
      "source": [
        "df['paper'] = np.where(df.y.str.contains(\"paper\") &\n",
        "                       ~df.y.str.contains(\"newspaper\"), \n",
        "                       1, 0)\n",
        "df.paper.value_counts()"
      ],
      "execution_count": 17,
      "outputs": [
        {
          "output_type": "execute_result",
          "data": {
            "text/plain": [
              "0    4097\n",
              "1     300\n",
              "Name: paper, dtype: int64"
            ]
          },
          "metadata": {
            "tags": []
          },
          "execution_count": 17
        }
      ]
    },
    {
      "cell_type": "code",
      "metadata": {
        "colab": {
          "base_uri": "https://localhost:8080/"
        },
        "id": "KOofl7iARnvY",
        "outputId": "aff5d0ca-02e4-4687-8a3c-d08083672452"
      },
      "source": [
        "df['lacquer'] = np.where(df.y.str.contains(\"lacquer\", regex=True), 1, 0)\n",
        "df.lacquer.value_counts() "
      ],
      "execution_count": 18,
      "outputs": [
        {
          "output_type": "execute_result",
          "data": {
            "text/plain": [
              "0    4288\n",
              "1     109\n",
              "Name: lacquer, dtype: int64"
            ]
          },
          "metadata": {
            "tags": []
          },
          "execution_count": 18
        }
      ]
    },
    {
      "cell_type": "code",
      "metadata": {
        "colab": {
          "base_uri": "https://localhost:8080/"
        },
        "id": "4Q1wGlXxcWS5",
        "outputId": "224cb24f-fe5c-4657-9d26-f64f48900db0"
      },
      "source": [
        "df['masonite'] = np.where(df.y.str.contains(\"masonite\", regex=True), 1, 0)\n",
        "df.masonite.value_counts()"
      ],
      "execution_count": 19,
      "outputs": [
        {
          "output_type": "execute_result",
          "data": {
            "text/plain": [
              "0    4290\n",
              "1     107\n",
              "Name: masonite, dtype: int64"
            ]
          },
          "metadata": {
            "tags": []
          },
          "execution_count": 19
        }
      ]
    },
    {
      "cell_type": "code",
      "metadata": {
        "colab": {
          "base_uri": "https://localhost:8080/"
        },
        "id": "SAhjT3bJciM-",
        "outputId": "78a425b6-3caa-4497-b262-e2bc249f7f82"
      },
      "source": [
        "df['panel'] = np.where(df.y.str.contains(\"panel\", regex=True), 1, 0)\n",
        "df.panel.value_counts()"
      ],
      "execution_count": 20,
      "outputs": [
        {
          "output_type": "execute_result",
          "data": {
            "text/plain": [
              "0    4291\n",
              "1     106\n",
              "Name: panel, dtype: int64"
            ]
          },
          "metadata": {
            "tags": []
          },
          "execution_count": 20
        }
      ]
    },
    {
      "cell_type": "code",
      "metadata": {
        "colab": {
          "base_uri": "https://localhost:8080/"
        },
        "id": "aAQcJjcFcwxt",
        "outputId": "11466cdc-304e-43ff-fd37-033a2e79aac2"
      },
      "source": [
        "df['ink'] = np.where(df.y.str.contains(\"ink\", regex=True) &\n",
        "                     ~df.y.str.contains(\"markerink\"), 1, 0)\n",
        "df.ink.value_counts()"
      ],
      "execution_count": 21,
      "outputs": [
        {
          "output_type": "execute_result",
          "data": {
            "text/plain": [
              "0    4301\n",
              "1      96\n",
              "Name: ink, dtype: int64"
            ]
          },
          "metadata": {
            "tags": []
          },
          "execution_count": 21
        }
      ]
    },
    {
      "cell_type": "code",
      "metadata": {
        "colab": {
          "base_uri": "https://localhost:8080/"
        },
        "id": "_LVuppeOdeGh",
        "outputId": "7fc95a07-c872-4a62-84e4-ec378510e9aa"
      },
      "source": [
        "df['wood'] = np.where(df.y.str.contains(\"wood\", regex=True) &\n",
        "                     ~df.y.str.contains(\"markerink\"), 1, 0)\n",
        "df.wood.value_counts()"
      ],
      "execution_count": 22,
      "outputs": [
        {
          "output_type": "execute_result",
          "data": {
            "text/plain": [
              "0    4283\n",
              "1     114\n",
              "Name: wood, dtype: int64"
            ]
          },
          "metadata": {
            "tags": []
          },
          "execution_count": 22
        }
      ]
    },
    {
      "cell_type": "code",
      "metadata": {
        "id": "q4j96egQ_uNH",
        "colab": {
          "base_uri": "https://localhost:8080/",
          "height": 359
        },
        "outputId": "02a5a407-31e2-489e-efb1-5a6765ad41a0"
      },
      "source": [
        "df.tail(10)"
      ],
      "execution_count": 23,
      "outputs": [
        {
          "output_type": "execute_result",
          "data": {
            "text/html": [
              "<div>\n",
              "<style scoped>\n",
              "    .dataframe tbody tr th:only-of-type {\n",
              "        vertical-align: middle;\n",
              "    }\n",
              "\n",
              "    .dataframe tbody tr th {\n",
              "        vertical-align: top;\n",
              "    }\n",
              "\n",
              "    .dataframe thead th {\n",
              "        text-align: right;\n",
              "    }\n",
              "</style>\n",
              "<table border=\"1\" class=\"dataframe\">\n",
              "  <thead>\n",
              "    <tr style=\"text-align: right;\">\n",
              "      <th></th>\n",
              "      <th>x</th>\n",
              "      <th>y</th>\n",
              "      <th>z</th>\n",
              "      <th>canvas</th>\n",
              "      <th>oil</th>\n",
              "      <th>acrylic</th>\n",
              "      <th>board</th>\n",
              "      <th>paper</th>\n",
              "      <th>lacquer</th>\n",
              "      <th>masonite</th>\n",
              "      <th>panel</th>\n",
              "      <th>ink</th>\n",
              "      <th>wood</th>\n",
              "    </tr>\n",
              "  </thead>\n",
              "  <tbody>\n",
              "    <tr>\n",
              "      <th>4387</th>\n",
              "      <td>Oil / Linen</td>\n",
              "      <td>oil  linen</td>\n",
              "      <td>oil  linen</td>\n",
              "      <td>0</td>\n",
              "      <td>1</td>\n",
              "      <td>0</td>\n",
              "      <td>0</td>\n",
              "      <td>0</td>\n",
              "      <td>0</td>\n",
              "      <td>0</td>\n",
              "      <td>0</td>\n",
              "      <td>0</td>\n",
              "      <td>0</td>\n",
              "    </tr>\n",
              "    <tr>\n",
              "      <th>4388</th>\n",
              "      <td>Acrylic / Panel</td>\n",
              "      <td>acrylic  panel</td>\n",
              "      <td>acrylic  panel</td>\n",
              "      <td>0</td>\n",
              "      <td>0</td>\n",
              "      <td>1</td>\n",
              "      <td>0</td>\n",
              "      <td>0</td>\n",
              "      <td>0</td>\n",
              "      <td>0</td>\n",
              "      <td>1</td>\n",
              "      <td>0</td>\n",
              "      <td>0</td>\n",
              "    </tr>\n",
              "    <tr>\n",
              "      <th>4389</th>\n",
              "      <td>Acrylic / Canvas</td>\n",
              "      <td>acrylic  canvas</td>\n",
              "      <td>acrylic  canvas</td>\n",
              "      <td>1</td>\n",
              "      <td>0</td>\n",
              "      <td>1</td>\n",
              "      <td>0</td>\n",
              "      <td>0</td>\n",
              "      <td>0</td>\n",
              "      <td>0</td>\n",
              "      <td>0</td>\n",
              "      <td>0</td>\n",
              "      <td>0</td>\n",
              "    </tr>\n",
              "    <tr>\n",
              "      <th>4390</th>\n",
              "      <td>Acrylic / Canvas</td>\n",
              "      <td>acrylic  canvas</td>\n",
              "      <td>acrylic  canvas</td>\n",
              "      <td>1</td>\n",
              "      <td>0</td>\n",
              "      <td>1</td>\n",
              "      <td>0</td>\n",
              "      <td>0</td>\n",
              "      <td>0</td>\n",
              "      <td>0</td>\n",
              "      <td>0</td>\n",
              "      <td>0</td>\n",
              "      <td>0</td>\n",
              "    </tr>\n",
              "    <tr>\n",
              "      <th>4391</th>\n",
              "      <td>Ink and acrylic / Paper</td>\n",
              "      <td>ink and acrylic  paper</td>\n",
              "      <td>ink  acrylic  paper</td>\n",
              "      <td>0</td>\n",
              "      <td>0</td>\n",
              "      <td>1</td>\n",
              "      <td>0</td>\n",
              "      <td>1</td>\n",
              "      <td>0</td>\n",
              "      <td>0</td>\n",
              "      <td>0</td>\n",
              "      <td>1</td>\n",
              "      <td>0</td>\n",
              "    </tr>\n",
              "    <tr>\n",
              "      <th>4392</th>\n",
              "      <td>Ink and acrylic / Canvas</td>\n",
              "      <td>ink and acrylic  canvas</td>\n",
              "      <td>ink  acrylic  canvas</td>\n",
              "      <td>1</td>\n",
              "      <td>0</td>\n",
              "      <td>1</td>\n",
              "      <td>0</td>\n",
              "      <td>0</td>\n",
              "      <td>0</td>\n",
              "      <td>0</td>\n",
              "      <td>0</td>\n",
              "      <td>1</td>\n",
              "      <td>0</td>\n",
              "    </tr>\n",
              "    <tr>\n",
              "      <th>4393</th>\n",
              "      <td>Ink and acrylic / Canvas</td>\n",
              "      <td>ink and acrylic  canvas</td>\n",
              "      <td>ink  acrylic  canvas</td>\n",
              "      <td>1</td>\n",
              "      <td>0</td>\n",
              "      <td>1</td>\n",
              "      <td>0</td>\n",
              "      <td>0</td>\n",
              "      <td>0</td>\n",
              "      <td>0</td>\n",
              "      <td>0</td>\n",
              "      <td>1</td>\n",
              "      <td>0</td>\n",
              "    </tr>\n",
              "    <tr>\n",
              "      <th>4394</th>\n",
              "      <td>Ink and acrylic / Paper</td>\n",
              "      <td>ink and acrylic  paper</td>\n",
              "      <td>ink  acrylic  paper</td>\n",
              "      <td>0</td>\n",
              "      <td>0</td>\n",
              "      <td>1</td>\n",
              "      <td>0</td>\n",
              "      <td>1</td>\n",
              "      <td>0</td>\n",
              "      <td>0</td>\n",
              "      <td>0</td>\n",
              "      <td>1</td>\n",
              "      <td>0</td>\n",
              "    </tr>\n",
              "    <tr>\n",
              "      <th>4395</th>\n",
              "      <td>Oil / Canvas</td>\n",
              "      <td>oil  canvas</td>\n",
              "      <td>oil  canvas</td>\n",
              "      <td>1</td>\n",
              "      <td>1</td>\n",
              "      <td>0</td>\n",
              "      <td>0</td>\n",
              "      <td>0</td>\n",
              "      <td>0</td>\n",
              "      <td>0</td>\n",
              "      <td>0</td>\n",
              "      <td>0</td>\n",
              "      <td>0</td>\n",
              "    </tr>\n",
              "    <tr>\n",
              "      <th>4396</th>\n",
              "      <td>Acrylic and ink / Canvas</td>\n",
              "      <td>acrylic and ink  canvas</td>\n",
              "      <td>acrylic  ink  canvas</td>\n",
              "      <td>1</td>\n",
              "      <td>0</td>\n",
              "      <td>1</td>\n",
              "      <td>0</td>\n",
              "      <td>0</td>\n",
              "      <td>0</td>\n",
              "      <td>0</td>\n",
              "      <td>0</td>\n",
              "      <td>1</td>\n",
              "      <td>0</td>\n",
              "    </tr>\n",
              "  </tbody>\n",
              "</table>\n",
              "</div>"
            ],
            "text/plain": [
              "                             x                        y  ... ink  wood\n",
              "4387               Oil / Linen               oil  linen  ...   0     0\n",
              "4388           Acrylic / Panel           acrylic  panel  ...   0     0\n",
              "4389          Acrylic / Canvas          acrylic  canvas  ...   0     0\n",
              "4390          Acrylic / Canvas          acrylic  canvas  ...   0     0\n",
              "4391   Ink and acrylic / Paper   ink and acrylic  paper  ...   1     0\n",
              "4392  Ink and acrylic / Canvas  ink and acrylic  canvas  ...   1     0\n",
              "4393  Ink and acrylic / Canvas  ink and acrylic  canvas  ...   1     0\n",
              "4394   Ink and acrylic / Paper   ink and acrylic  paper  ...   1     0\n",
              "4395              Oil / Canvas              oil  canvas  ...   0     0\n",
              "4396  Acrylic and ink / Canvas  acrylic and ink  canvas  ...   1     0\n",
              "\n",
              "[10 rows x 13 columns]"
            ]
          },
          "metadata": {
            "tags": []
          },
          "execution_count": 23
        }
      ]
    },
    {
      "cell_type": "code",
      "metadata": {
        "id": "m36vH_jfJA-U",
        "colab": {
          "base_uri": "https://localhost:8080/",
          "height": 17
        },
        "outputId": "7d973d50-96d6-4f52-c79b-5892bf8eebd0"
      },
      "source": [
        "from google.colab import files\n",
        "df.to_csv('medium_post_nlp.csv',index=True)\n",
        "files.download('medium_post_nlp.csv')"
      ],
      "execution_count": 25,
      "outputs": [
        {
          "output_type": "display_data",
          "data": {
            "application/javascript": [
              "\n",
              "    async function download(id, filename, size) {\n",
              "      if (!google.colab.kernel.accessAllowed) {\n",
              "        return;\n",
              "      }\n",
              "      const div = document.createElement('div');\n",
              "      const label = document.createElement('label');\n",
              "      label.textContent = `Downloading \"${filename}\": `;\n",
              "      div.appendChild(label);\n",
              "      const progress = document.createElement('progress');\n",
              "      progress.max = size;\n",
              "      div.appendChild(progress);\n",
              "      document.body.appendChild(div);\n",
              "\n",
              "      const buffers = [];\n",
              "      let downloaded = 0;\n",
              "\n",
              "      const channel = await google.colab.kernel.comms.open(id);\n",
              "      // Send a message to notify the kernel that we're ready.\n",
              "      channel.send({})\n",
              "\n",
              "      for await (const message of channel.messages) {\n",
              "        // Send a message to notify the kernel that we're ready.\n",
              "        channel.send({})\n",
              "        if (message.buffers) {\n",
              "          for (const buffer of message.buffers) {\n",
              "            buffers.push(buffer);\n",
              "            downloaded += buffer.byteLength;\n",
              "            progress.value = downloaded;\n",
              "          }\n",
              "        }\n",
              "      }\n",
              "      const blob = new Blob(buffers, {type: 'application/binary'});\n",
              "      const a = document.createElement('a');\n",
              "      a.href = window.URL.createObjectURL(blob);\n",
              "      a.download = filename;\n",
              "      div.appendChild(a);\n",
              "      a.click();\n",
              "      div.remove();\n",
              "    }\n",
              "  "
            ],
            "text/plain": [
              "<IPython.core.display.Javascript object>"
            ]
          },
          "metadata": {
            "tags": []
          }
        },
        {
          "output_type": "display_data",
          "data": {
            "application/javascript": [
              "download(\"download_f6ad31d3-75b1-4179-8a5d-0d932f9a39e8\", \"medium_post_nlp.csv\", 318331)"
            ],
            "text/plain": [
              "<IPython.core.display.Javascript object>"
            ]
          },
          "metadata": {
            "tags": []
          }
        }
      ]
    }
  ]
}